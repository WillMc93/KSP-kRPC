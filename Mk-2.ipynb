{
 "cells": [
  {
   "cell_type": "markdown",
   "metadata": {},
   "source": [
    "# Establish Communication with Vessel"
   ]
  },
  {
   "cell_type": "code",
   "execution_count": 1,
   "metadata": {},
   "outputs": [],
   "source": [
    "import krpc\n",
    "import time\n",
    "\n",
    "from operator import attrgetter\n",
    "\n",
    "conn = krpc.connect(\"MK-1\")\n",
    "vessel = conn.space_center.active_vessel\n",
    "vessel_sit = conn.space_center.VesselSituation"
   ]
  },
  {
   "cell_type": "markdown",
   "metadata": {},
   "source": [
    "# Initialize Auto-Pilot"
   ]
  },
  {
   "cell_type": "code",
   "execution_count": 2,
   "metadata": {},
   "outputs": [],
   "source": [
    "vessel.auto_pilot.target_pitch_and_heading(90, 90)\n",
    "vessel.auto_pilot.engage()\n",
    "vessel.control.throttle = 1\n",
    "time.sleep(1)"
   ]
  },
  {
   "cell_type": "markdown",
   "metadata": {},
   "source": [
    "# Check for Science Objectives"
   ]
  },
  {
   "cell_type": "code",
   "execution_count": 3,
   "metadata": {},
   "outputs": [],
   "source": [
    "# Start situation and biome streams\n",
    "init_sit = vessel.situation\n",
    "\n",
    "situation = conn.add_stream(getattr, vessel, 'situation')\n",
    "biome = conn.add_stream(getattr, vessel, 'biome')\n",
    "\n",
    "situation.start()\n",
    "biome.start()"
   ]
  },
  {
   "cell_type": "code",
   "execution_count": 4,
   "metadata": {},
   "outputs": [],
   "source": [
    "# Define methods for experiment management\n",
    "transmissions = []\n",
    "\n",
    "def get_experiments(vessel=vessel):\n",
    "    sci_parts = vessel.parts.with_module('ModuleScienceExperiment')\n",
    "    \n",
    "    # Get only opearable experiments\n",
    "    sci_parts = [part for part in sci_parts if not part.experiment.inoperable]\n",
    "    \n",
    "    # Get unique experiments\n",
    "    experiments = []\n",
    "    for part in sci_parts:\n",
    "        unique = True\n",
    "        for experiment in experiments:\n",
    "            if part.title == experiment.title:\n",
    "                unique = False\n",
    "                break\n",
    "                \n",
    "        if unique:\n",
    "            experiments.append(part) \n",
    "            \n",
    "    return experiments\n",
    "\n",
    "def run_experiment(sci_part):\n",
    "    try:\n",
    "        print(f\"Running: {sci_part.title}\")\n",
    "        sci_part.experiment.run()\n",
    "\n",
    "    except RuntimeError:\n",
    "        print(\"Already had data. Attempting correction.\")\n",
    "        transmit(sci_part)\n",
    "        time.sleep(2)\n",
    "        run_experiment(sci_part)\n",
    "        \n",
    "def transmit(sci_part, transmissions=transmissions):\n",
    "    # For data in sci_part\n",
    "    for data in sci_part.experiment.data:\n",
    "        # Transmit if data has value\n",
    "        if data.transmit_value > 0:\n",
    "            print(f\"Transmitting: {sci_part.title}, {data.transmit_value}\")\n",
    "            transmissions += [(sci_part.title, data.transmit_value)]\n",
    "            sci_part.experiment.transmit()\n",
    "\n",
    "    \n",
    "    # Reset experiment\n",
    "    if not sci_part.experiment.inoperable:\n",
    "        sci_part.experiment.reset()    "
   ]
  },
  {
   "cell_type": "markdown",
   "metadata": {},
   "source": [
    "# Launch"
   ]
  },
  {
   "cell_type": "code",
   "execution_count": null,
   "metadata": {},
   "outputs": [
    {
     "name": "stdout",
     "output_type": "stream",
     "text": [
      "Entering: (<VesselSituation.pre_launch: 0>, 'Shores')\n",
      "Running: Probodobodyne Stayputnik\n",
      "Running: 2HOT Thermometer\n",
      "Already had data. Attempting correction.\n",
      "Running: 2HOT Thermometer\n",
      "Already had data. Attempting correction.\n",
      "Running: 2HOT Thermometer\n",
      "Already had data. Attempting correction.\n",
      "Running: 2HOT Thermometer\n",
      "Already had data. Attempting correction.\n",
      "Running: 2HOT Thermometer\n",
      "Already had data. Attempting correction.\n",
      "Running: 2HOT Thermometer\n",
      "Already had data. Attempting correction.\n",
      "Running: 2HOT Thermometer\n",
      "Running: Mystery Goo™ Containment Unit \n",
      "Transmitting: Mystery Goo™ Containment Unit , 4.0320000648498535\n",
      "Entering: (<VesselSituation.flying: 4>, 'Shores')\n",
      "Running: Probodobodyne Stayputnik\n",
      "Transmitting: Probodobodyne Stayputnik, 1.600000023841858\n",
      "Running: 2HOT Thermometer\n",
      "Transmitting: 2HOT Thermometer, 3.200000047683716\n",
      "Running: Mystery Goo™ Containment Unit \n",
      "Transmitting: Mystery Goo™ Containment Unit , 4.0320000648498535\n"
     ]
    }
   ],
   "source": [
    "prev_sit_bio = None\n",
    "transmitted = []\n",
    "while situation() != vessel_sit.landed:\n",
    "    # Get the current situation and biome in tuple\n",
    "    sit_bio = (situation(), biome())\n",
    "    \n",
    "    # If the condition has not been visited yet,\n",
    "    # get data\n",
    "    if sit_bio != prev_sit_bio:\n",
    "        print(f\"Entering: {sit_bio}\")\n",
    "        experiments = get_experiments()\n",
    "        \n",
    "        for experiment in experiments:\n",
    "            run_experiment(experiment)\n",
    "            time.sleep(2)\n",
    "            transmit(experiment)\n",
    "            time.sleep(2)\n",
    "        \n",
    "        prev_sit_bio = sit_bio\n",
    "   \n",
    "    # If we have not launched now is the time\n",
    "    if situation() == vessel_sit.pre_launch:\n",
    "        vessel.control.activate_next_stage()"
   ]
  },
  {
   "cell_type": "code",
   "execution_count": null,
   "metadata": {},
   "outputs": [],
   "source": []
  }
 ],
 "metadata": {
  "kernelspec": {
   "display_name": "Python 3",
   "language": "python",
   "name": "python3"
  },
  "language_info": {
   "codemirror_mode": {
    "name": "ipython",
    "version": 3
   },
   "file_extension": ".py",
   "mimetype": "text/x-python",
   "name": "python",
   "nbconvert_exporter": "python",
   "pygments_lexer": "ipython3",
   "version": "3.8.5"
  }
 },
 "nbformat": 4,
 "nbformat_minor": 4
}
